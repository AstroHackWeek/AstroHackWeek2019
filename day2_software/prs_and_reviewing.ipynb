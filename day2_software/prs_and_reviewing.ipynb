{
 "cells": [
  {
   "cell_type": "markdown",
   "metadata": {},
   "source": [
    "# Pull Requests and Reviewing Code\n",
    "\n",
    "### Astro Hack Week 2019\n",
    "\n",
    "* * * \n",
    "Authors: Tom Robitaille, Erik Tollerud\n",
    "* * *\n",
    "\n",
    "Introduction and background..."
   ]
  },
  {
   "cell_type": "markdown",
   "metadata": {},
   "source": [
    "## Problem 2: Collaborating with others' repos"
   ]
  },
  {
   "cell_type": "markdown",
   "metadata": {},
   "source": [
    "One very important advantages of working in repositories is that sharing the code becomes much easier, others (and your future self) can have a look at it, use it, and contribute to it.  So now we'll have you try modify your neighbors' project using github's Pull Request feature."
   ]
  },
  {
   "cell_type": "markdown",
   "metadata": {},
   "source": [
    "### 2a: Get (git?) your neighbor's code repo"
   ]
  },
  {
   "cell_type": "markdown",
   "metadata": {},
   "source": [
    "Find someone sitting near you who has gotten through Problem 1.  Ask them their github user name and the name of their repository. "
   ]
  },
  {
   "cell_type": "markdown",
   "metadata": {},
   "source": [
    "Once you've got the name of their repo, navigate to it on github.  The URL pattern is always \"https://www.github.com/username/reponame\". Use the github interface to \"fork\" that repo, yielding a \"yourusername/reponame\" repository.  Go to that one, take note of the URL needed to clone it (you'll need to grab it from the repo web page, either in \"HTTPS\" or \"SSH\" form, depending on your choice in 1a).  Then clone that onto your local machine."
   ]
  },
  {
   "cell_type": "code",
   "execution_count": null,
   "metadata": {},
   "outputs": [],
   "source": [
    "# Don't forget to do this cd or something like it... otherwise you'll clone *inside* your repo\n",
    "%cd -0\n",
    "\n",
    "!git clone <url from github>#complete \n",
    "%cd <reponame>#complete "
   ]
  },
  {
   "cell_type": "markdown",
   "metadata": {},
   "source": [
    "### 2c: create a branch for your change"
   ]
  },
  {
   "cell_type": "markdown",
   "metadata": {},
   "source": [
    "You're going to make some changes to their code, but who knows... maybe they'll spend so long reviewing it that you want to do another.  So it's always best to make changes in a specific \"branch\" for that change.  So to do this we need to make a github branch.\n",
    "\n",
    "A super useful site to learn more about branching and praticing scenarios, feel free to check it out now, and also ask: \n",
    "    https://learngitbranching.js.org/\n"
   ]
  },
  {
   "cell_type": "code",
   "execution_count": null,
   "metadata": {},
   "outputs": [],
   "source": [
    "!git branch <name-of-branch>#complete"
   ]
  },
  {
   "cell_type": "markdown",
   "metadata": {},
   "source": [
    "### 2c: modify the code"
   ]
  },
  {
   "cell_type": "markdown",
   "metadata": {},
   "source": [
    "Make some change to their code repo.  Usually this would be a new feature or a bug fix or documentation clarification or the like... But it's up to you.  \n",
    "\n",
    "Once you've done that, be sure to commit the change locally."
   ]
  },
  {
   "cell_type": "code",
   "execution_count": null,
   "metadata": {},
   "outputs": [],
   "source": [
    "!git add <files modified>#complete\n",
    "!git commit -m \"\"#complete"
   ]
  },
  {
   "cell_type": "markdown",
   "metadata": {},
   "source": [
    "and push it up (to a branch on *your* github fork)."
   ]
  },
  {
   "cell_type": "code",
   "execution_count": null,
   "metadata": {},
   "outputs": [],
   "source": [
    "!git push origin <name-of-branch>#complete"
   ]
  },
  {
   "cell_type": "markdown",
   "metadata": {},
   "source": [
    "### 2d: Issue a pull request"
   ]
  },
  {
   "cell_type": "markdown",
   "metadata": {},
   "source": [
    "Now use the github interface to create a new \"pull request\".  Once you've pushed your new branch up, you'll see a prompt to do this automatically appear on your fork's web page.  But if you don't, use the \"branches\" drop-down to navigate to the new branch, and then hit the \"pull request\" button. That should show you an interface that you can use to leave a title and description (in github markdown), and then submit the PR.  Go ahead and do this."
   ]
  },
  {
   "cell_type": "markdown",
   "metadata": {},
   "source": [
    "### 2e: Have them review the PR"
   ]
  },
  {
   "cell_type": "markdown",
   "metadata": {},
   "source": [
    "Tell your neighbor that you've issued the PR.  They should be able to go to *their* repo, and see that a new pull request has been created.  There they'll review the PR, possibly leaving comments for you to change. If so, go to 2f, but if not, they should hit the \"Merge\" button, and you can jump to 2g."
   ]
  },
  {
   "cell_type": "markdown",
   "metadata": {},
   "source": [
    "### 2f: (If necessary) make changes and update the code"
   ]
  },
  {
   "cell_type": "markdown",
   "metadata": {},
   "source": [
    "If they left you some comments that require changing prior to merging, you'll need to make those changes in your local copy, commit those changes, and then push them up to your branch on your fork."
   ]
  },
  {
   "cell_type": "code",
   "execution_count": null,
   "metadata": {},
   "outputs": [],
   "source": [
    "!git #complete"
   ]
  },
  {
   "cell_type": "markdown",
   "metadata": {},
   "source": [
    "Hopefully they are now satisfied and are willing to hit the merge button."
   ]
  },
  {
   "cell_type": "markdown",
   "metadata": {},
   "source": [
    "### 2g: Get the updated version"
   ]
  },
  {
   "cell_type": "markdown",
   "metadata": {},
   "source": [
    "Now you should get the up-to-date version from the original owner of the repo, because that way you'll have both your changes and any other changes they might have made in the meantime.  To do this you'll need to connect your local copy to your *nieghbor*'s github repo (**not** your fork)."
   ]
  },
  {
   "cell_type": "code",
   "execution_count": null,
   "metadata": {},
   "outputs": [],
   "source": [
    "!git remote add <neighbors-username> <url-from-neighbors-github-repo> #complete\n",
    "!git fetch <neighbors-username> #complete\n",
    "!git branch --set-upstream-to=<neighbors-username>/master master\n",
    "!git checkout master\n",
    "!git pull"
   ]
  },
  {
   "cell_type": "markdown",
   "metadata": {},
   "source": [
    "Now if you look at the local repo, it should include your changes."
   ]
  },
  {
   "cell_type": "markdown",
   "metadata": {},
   "source": [
    "*Suggestion* You mauy want to change the \"origin\" remote to your username.  E.g. ``git remote rename origin <yourusername>``.  To go further, you might even *delete* your fork's `master` branch, so that only your neighbor's `master` exists.  That might save you headaches in the long run if you were to ever access this repo again in the future. "
   ]
  },
  {
   "cell_type": "markdown",
   "metadata": {},
   "source": [
    "### 2h: Have them reciprocate"
   ]
  },
  {
   "cell_type": "markdown",
   "metadata": {},
   "source": [
    "Science (Data or otherwise) and open source code is a social enterprise built on shared effort, mutual respect, and trust.  So ask them to issue a PR aginst *your* code, too.  The more we can stand on each others' shoulders, the farther we will all see.\n",
    "\n",
    "*Hint: Ask them nicely.  Maybe offer a cookie or something?*"
   ]
  }
 ],
 "metadata": {
  "anaconda-cloud": {},
  "kernelspec": {
   "display_name": "Python 3",
   "language": "python",
   "name": "python3"
  },
  "language_info": {
   "codemirror_mode": {
    "name": "ipython",
    "version": 3
   },
   "file_extension": ".py",
   "mimetype": "text/x-python",
   "name": "python",
   "nbconvert_exporter": "python",
   "pygments_lexer": "ipython3",
   "version": "3.6.7"
  }
 },
 "nbformat": 4,
 "nbformat_minor": 2
}
