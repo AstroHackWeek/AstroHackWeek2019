{
 "cells": [
  {
   "cell_type": "markdown",
   "metadata": {},
   "source": [
    "Querying astronomical databases with Astroquery\n",
    "========================================\n",
    "\n",
    "Authors: Erik Tollerud & Brigitta Sipőcz\n",
    "\n",
    "astroquery is an astropy coordinated package. The vision is to have a uniform pythonic interface\n",
    "for data consumers, a de-facto gateway to data. Most modules are developed independently, some data providers\n",
    "do support modules in astroquery, others are developed by volunteers.\n",
    "\n",
    "astroquery will always remain independent from core astropy: it has to keep up with rapid changes on servers.\n",
    "\n",
    "Developer versions are \"Continuously deployed\", these versions can be pip installed with \n",
    "`pip install --pre -U astroquery`. Generarilly it's always best to have the most recent developer version.\n",
    "\n",
    "Modules heavily use astropy, and thus can work with astropy objects. (E.g. coordinates can be provided as `SkyCoord`s, results are usually returned as astropy `Tables`.\n",
    "\n",
    "Homepage, including installation instructions:\n",
    "    https://astroquery.readthedocs.io/\n",
    "    \n",
    "If you use astroquery, please cite the the paper:  [Ginsburg, Sipőcz, Brasseur et al, AJ, 157, 98](https://ui.adsabs.harvard.edu/abs/2019AJ....157...98G)"
   ]
  },
  {
   "cell_type": "markdown",
   "metadata": {},
   "source": [
    "## Vizier, SDSS, and XMatch\n",
    "\n",
    "Download a table from a paper.\n",
    "\n",
    "Documentation and several examples: \n",
    "* https://astroquery.readthedocs.io/en/latest/vizier/vizier.html\n",
    "* https://astroquery.readthedocs.io/en/latest/xmatch/xmatch.html"
   ]
  },
  {
   "cell_type": "code",
   "execution_count": null,
   "metadata": {},
   "outputs": [],
   "source": [
    "# Import useful Astropy functionality\n",
    "from astropy.coordinates import SkyCoord\n",
    "import astropy.units as u"
   ]
  },
  {
   "cell_type": "code",
   "execution_count": null,
   "metadata": {},
   "outputs": [],
   "source": [
    "from astroquery.vizier import Vizier\n",
    "\n",
    "vizier = Vizier()\n",
    "vizier.ROW_LIMIT = -1  # default is too small\n",
    "\n",
    "# Download BD parallaxes from e.g. Dupuy&Liu 2012 ApJS\n",
    "\n",
    "LT_parallax = vizier.get_catalogs(catalog=\"J/ApJS/201/19/plx-phot\")[0]"
   ]
  },
  {
   "cell_type": "code",
   "execution_count": null,
   "metadata": {
    "scrolled": true
   },
   "outputs": [],
   "source": [
    "LT_parallax"
   ]
  },
  {
   "cell_type": "markdown",
   "metadata": {},
   "source": [
    "Now focus on the first object in this list. First, all SDSS sources from a closeby region.\n",
    "\n",
    "Hint: most astroquery modules have a `query_region()` method when it makes sense to query for coordinate. "
   ]
  },
  {
   "cell_type": "code",
   "execution_count": null,
   "metadata": {},
   "outputs": [],
   "source": [
    "# First create a SkyCoord object\n",
    "position = SkyCoord(LT_parallax[0]['RAJ2000'], LT_parallax[0]['DEJ2000'], unit=\"deg\")\n",
    "\n",
    "# Get closeby sources from SDSS\n",
    "from astroquery.sdss import SDSS\n",
    "sdss = SDSS()\n",
    "closeby_sources = sdss.query_region(position, radius=0.1 * u.deg, timeout=3600)"
   ]
  },
  {
   "cell_type": "code",
   "execution_count": null,
   "metadata": {},
   "outputs": [],
   "source": [
    "closeby_sources"
   ]
  },
  {
   "cell_type": "markdown",
   "metadata": {},
   "source": [
    "## Exercise: get the SDSS image of the region\n",
    "\n",
    "Maybe also create a colour image, following the astropy docs http://docs.astropy.org/en/stable/visualization/rgb.html\n",
    "\n",
    "Hint: ``dir(SDSS)`` will give you the list of all available methods. E.g. there is `get_images()`, `get_spectra()`, etc."
   ]
  },
  {
   "cell_type": "code",
   "execution_count": null,
   "metadata": {},
   "outputs": [],
   "source": []
  },
  {
   "cell_type": "markdown",
   "metadata": {},
   "source": [
    "## Write SQL query and cross match is with other catalogues\n",
    "\n",
    "Some modules support SQL queries (the server side need to support this, too). You can then use XMatch \n",
    "to cross match with other catalogues, e.g. with WISE"
   ]
  },
  {
   "cell_type": "code",
   "execution_count": null,
   "metadata": {},
   "outputs": [],
   "source": [
    "from astroquery.sdss import SDSS\n",
    "sdss = SDSS()\n",
    "query = \"select top 100 z, ra, dec, bestObjID from specObj where class = 'galaxy' and z > 0.3 and zWarning = 0\"\n",
    "\n",
    "results = sdss.query_sql(query)"
   ]
  },
  {
   "cell_type": "code",
   "execution_count": null,
   "metadata": {},
   "outputs": [],
   "source": [
    "from astroquery.xmatch import XMatch\n",
    "xmatch = XMatch()\n",
    "\n",
    "SDSS_WISE_match = table= XMatch.query(cat1=results,\n",
    "                                      cat2='vizier:ii/328/allwise',\n",
    "                                      max_distance=3 * u.arcsec, colRA1='ra',colDec1='dec')"
   ]
  },
  {
   "cell_type": "code",
   "execution_count": null,
   "metadata": {},
   "outputs": [],
   "source": [
    "SDSS_WISE_match"
   ]
  },
  {
   "cell_type": "markdown",
   "metadata": {},
   "source": [
    "## Exercise: make a query that actually makes sense, create a plot."
   ]
  },
  {
   "cell_type": "code",
   "execution_count": null,
   "metadata": {},
   "outputs": [],
   "source": []
  },
  {
   "cell_type": "markdown",
   "metadata": {},
   "source": [
    "\n",
    "\n",
    "## Exercise: Based on your science interest, choose an archive and make astroquery queries\n",
    "\n",
    "Full list of modules available: https://astroquery.readthedocs.io/en/latest/\n",
    "\n",
    "Some examples for the most commonly used ones:\n",
    "\n",
    " * astroquery.alma\n",
    " * astroquery.eso\n",
    " * astroquery.gaia\n",
    " * astroquery.jplhorizon\n",
    " * astroquery.mast\n",
    " * astroquery.sdss\n",
    " * astroquery.vizier\n",
    " \n",
    "Verbosity of the narrative documentation varies, but methods have documentation in their docstrings.\n",
    "\n",
    "## Resources elsewhere on astroquery exist, notebooks e.g.:\n",
    "\n",
    "Notebooks on MAST: https://github.com/spacetelescope/notebooks\n",
    "* [Cutout of the TESS FFIs using Astrocut and Astroquery](https://spacetelescope.github.io/notebooks/notebooks/MAST/TESS/interm_tesscut_astroquery/interm_tesscut_astroquery.html)\n",
    "* [Intermediate: Search and Download GI Program Light Curves](https://spacetelescope.github.io/notebooks/notebooks/MAST/TESS/interm_gi_query/interm_gi_query.html)\n",
    "* etc.\n",
    "\n"
   ]
  }
 ],
 "metadata": {
  "kernelspec": {
   "display_name": "Python 3",
   "language": "python",
   "name": "python3"
  },
  "language_info": {
   "codemirror_mode": {
    "name": "ipython",
    "version": 3
   },
   "file_extension": ".py",
   "mimetype": "text/x-python",
   "name": "python",
   "nbconvert_exporter": "python",
   "pygments_lexer": "ipython3",
   "version": "3.7.4"
  }
 },
 "nbformat": 4,
 "nbformat_minor": 2
}
