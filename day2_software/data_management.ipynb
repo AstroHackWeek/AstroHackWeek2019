{
 "cells": [
  {
   "cell_type": "markdown",
   "metadata": {},
   "source": [
    "# Data Management for Individuals\n",
    "\n",
    "IN PROGRESS\n",
    "\n",
    "Authors: Erik Tollerud & Brigitta Sipőcz\n",
    "\n",
    "WORD ABOUT HOW DM IS DIFFERENT FOR BIG GROUPS VS INDIVIDUALS\n",
    "\n",
    "Also some words about NEVER EVER ROLL YOUR OWN FORMAT"
   ]
  },
  {
   "cell_type": "markdown",
   "metadata": {},
   "source": [
    "# DM the Easy Way: \"automatic\" tools"
   ]
  },
  {
   "cell_type": "markdown",
   "metadata": {},
   "source": [
    "Demo caching in astropy"
   ]
  },
  {
   "cell_type": "code",
   "execution_count": null,
   "metadata": {},
   "outputs": [],
   "source": []
  },
  {
   "cell_type": "markdown",
   "metadata": {},
   "source": [
    "Show how it's non-trivial to find things"
   ]
  },
  {
   "cell_type": "code",
   "execution_count": null,
   "metadata": {},
   "outputs": [],
   "source": []
  },
  {
   "cell_type": "markdown",
   "metadata": {},
   "source": [
    "## Pickling "
   ]
  },
  {
   "cell_type": "markdown",
   "metadata": {},
   "source": [
    "First show how pickling works well "
   ]
  },
  {
   "cell_type": "code",
   "execution_count": null,
   "metadata": {},
   "outputs": [],
   "source": []
  },
  {
   "cell_type": "markdown",
   "metadata": {},
   "source": [
    "Then show it's failure modes: \n",
    "\n",
    "1. If your class is not find-able\n",
    "2. if you've got an incompatible format\n",
    "3.  (very limited reader option - only Py)"
   ]
  },
  {
   "cell_type": "code",
   "execution_count": null,
   "metadata": {},
   "outputs": [],
   "source": []
  },
  {
   "cell_type": "markdown",
   "metadata": {},
   "source": [
    "# DM the slightly harder way: managing files "
   ]
  },
  {
   "cell_type": "markdown",
   "metadata": {},
   "source": [
    "## Tables/catalogs\n",
    "\n",
    "1. demo csv-writers\n",
    "2. show the dangers of non-roundtripping (demoing ECSV as an example of keeping metadaya)\n",
    "3. compare csv to fits - binary better, but row-based\n",
    "4. Do a row/column-major comparison - asdf? or hdf5?"
   ]
  },
  {
   "cell_type": "markdown",
   "metadata": {},
   "source": [
    "## Images/data files\n",
    "\n",
    "1. show how fits and hdf5 are both reasonable as raw images\n",
    "2. demo data structures like nddata/spectrum1d\n",
    "3. demo file *management* using https://ccdproc.readthedocs.io/en/latest/image_management.html as a case study"
   ]
  },
  {
   "cell_type": "markdown",
   "metadata": {},
   "source": [
    "# \"Real DM\": databases\n",
    "\n",
    "1. show how shelve can do in a pinch, but \n",
    "2. describe sqlite and show an example of using it locally to store data\n",
    "3. do an example gaia query to show that that's \"real\" DM"
   ]
  }
 ],
 "metadata": {
  "kernelspec": {
   "display_name": "Python 3",
   "language": "python",
   "name": "python3"
  },
  "language_info": {
   "codemirror_mode": {
    "name": "ipython",
    "version": 3
   },
   "file_extension": ".py",
   "mimetype": "text/x-python",
   "name": "python",
   "nbconvert_exporter": "python",
   "pygments_lexer": "ipython3",
   "version": "3.6.7"
  }
 },
 "nbformat": 4,
 "nbformat_minor": 2
}
