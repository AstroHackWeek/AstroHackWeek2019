{
  "nbformat": 4,
  "nbformat_minor": 0,
  "metadata": {
    "kernelspec": {
      "name": "python2",
      "display_name": "Python 2"
    },
    "language_info": {
      "codemirror_mode": {
        "name": "ipython",
        "version": 2
      },
      "file_extension": ".py",
      "mimetype": "text/x-python",
      "name": "python",
      "nbconvert_exporter": "python",
      "pygments_lexer": "ipython2",
      "version": "2.7.15"
    },
    "colab": {
      "name": "_TutorialDeep101_incomplete.ipynb",
      "version": "0.3.2",
      "provenance": [],
      "collapsed_sections": [],
      "include_colab_link": true
    },
    "accelerator": "GPU"
  },
  "cells": [
    {
      "cell_type": "markdown",
      "metadata": {
        "id": "view-in-github",
        "colab_type": "text"
      },
      "source": [
        "<a href=\"https://colab.research.google.com/github/kabartay/AstroHackWeek2019/blob/organokov/_TutorialDeep101_incomplete.ipynb\" target=\"_parent\"><img src=\"https://colab.research.google.com/assets/colab-badge.svg\" alt=\"Open In Colab\"/></a>"
      ]
    },
    {
      "cell_type": "markdown",
      "metadata": {
        "id": "zHY8kI-S3RhW",
        "colab_type": "text"
      },
      "source": [
        "# Building and training a neural network with TensorFlow"
      ]
    },
    {
      "cell_type": "code",
      "metadata": {
        "id": "6cJHJO1E3Rhj",
        "colab_type": "code",
        "outputId": "692d0b17-a4c5-4de1-9816-c3cf24b7f682",
        "colab": {
          "base_uri": "https://localhost:8080/",
          "height": 52
        }
      },
      "source": [
        "from __future__ import absolute_import, division, print_function, unicode_literals\n",
        "\n",
        "# TensorFlow and tf.keras\n",
        "import tensorflow as tf\n",
        "from tensorflow import keras\n",
        "\n",
        "# Helper libraries\n",
        "import numpy as np\n",
        "import matplotlib.pyplot as plt\n",
        "import pandas as pd \n",
        "\n",
        "print(tf.__version__)\n",
        "print(\"GPU Available: \", tf.test.is_gpu_available())\n"
      ],
      "execution_count": 0,
      "outputs": [
        {
          "output_type": "stream",
          "text": [
            "1.14.0\n",
            "GPU Available:  True\n"
          ],
          "name": "stdout"
        }
      ]
    },
    {
      "cell_type": "code",
      "metadata": {
        "id": "vCKms0-AfruJ",
        "colab_type": "code",
        "colab": {}
      },
      "source": [
        ""
      ],
      "execution_count": 0,
      "outputs": []
    },
    {
      "cell_type": "code",
      "metadata": {
        "id": "SsWZJy0t462i",
        "colab_type": "code",
        "outputId": "d5931652-8ada-42c5-881c-1c27702c0b27",
        "colab": {
          "base_uri": "https://localhost:8080/",
          "height": 34
        }
      },
      "source": [
        "# Making sure GPUs are enabled\n",
        "device_name = tf.test.gpu_device_name()\n",
        "if device_name != '/device:GPU:0':\n",
        "  raise SystemError('GPU device not found')\n",
        "print('Found GPU at: {}'.format(device_name))"
      ],
      "execution_count": 0,
      "outputs": [
        {
          "output_type": "stream",
          "text": [
            "Found GPU at: /device:GPU:0\n"
          ],
          "name": "stdout"
        }
      ]
    },
    {
      "cell_type": "markdown",
      "metadata": {
        "id": "pCcDrF2T3RiE",
        "colab_type": "text"
      },
      "source": [
        "## Loading data"
      ]
    },
    {
      "cell_type": "markdown",
      "metadata": {
        "id": "G8-iNz1z3RiJ",
        "colab_type": "text"
      },
      "source": [
        "We will work for now with the fashion mnist dataset, which can be downloaded within tensorflow. It is a classification datasets composed of 28x28 black and white images of 10 different types of fashion items."
      ]
    },
    {
      "cell_type": "code",
      "metadata": {
        "id": "uV1WqC7_3RiP",
        "colab_type": "code",
        "colab": {}
      },
      "source": [
        "fashion_mnist = keras.datasets.fashion_mnist\n",
        "(train_images, train_labels), (test_images, test_labels) = fashion_mnist.load_data()\n",
        "class_names = ['T-shirt/top', 'Trouser', 'Pullover', 'Dress', 'Coat',\n",
        "               'Sandal', 'Shirt', 'Sneaker', 'Bag', 'Ankle boot']\n"
      ],
      "execution_count": 0,
      "outputs": []
    },
    {
      "cell_type": "markdown",
      "metadata": {
        "id": "azUxKvOx3Rig",
        "colab_type": "text"
      },
      "source": [
        "Let's take a look at the images"
      ]
    },
    {
      "cell_type": "code",
      "metadata": {
        "id": "QR9ahKq13Rin",
        "colab_type": "code",
        "colab": {}
      },
      "source": [
        "plt.figure()\n",
        "plt.imshow(train_images[0], cmap=plt.cm.binary)\n",
        "plt.colorbar()\n",
        "plt.show()"
      ],
      "execution_count": 0,
      "outputs": []
    },
    {
      "cell_type": "markdown",
      "metadata": {
        "id": "XoSNccFp3Ri1",
        "colab_type": "text"
      },
      "source": [
        "### Rescaling the data\n",
        "Right now, the data is composed of pixels with values ranging from 0 to 256. We usually do some preprocessing on the data before training a model called Feature scaling (https://en.wikipedia.org/wiki/Feature_scaling ). There are different ways of doing so. Here we'll use __MinMax-Normalization__, where the 'normalized' data are computed with:\n",
        "$x' = \\frac{x - min(x)}{max(x) - min(x)}$\n",
        "Note that we usually compute the min/max (or mean std etc) on the training set only. Also, it is normally done 'per feature' : if your input is a vector composed of an 'age' feature, a 'height', etc. you want each feature to be expressed in a 'comparable' way. Here because w work with images, we do it accross all features (all pixels). If we had differnt channels (e.g. RGB) we should however compute the min/max on each channel (but it is usually coherent!)\n",
        "\n",
        "\n",
        "We'll see more details on pre-processing your data on the next tutorial !\n",
        "\n",
        "More refs: \n",
        "https://sebastianraschka.com/Articles/2014_about_feature_scaling.html\n",
        "https://scikit-learn.org/stable/auto_examples/preprocessing/plot_all_scaling.html#sphx-glr-auto-examples-preprocessing-plot-all-scaling-py\n",
        "https://towardsdatascience.com/normalization-vs-standardization-quantitative-analysis-a91e8a79cebf"
      ]
    },
    {
      "cell_type": "code",
      "metadata": {
        "id": "Jz3ZEXBI3Ri7",
        "colab_type": "code",
        "colab": {}
      },
      "source": [
        "## Do the MinMax normalization:\n",
        "\n"
      ],
      "execution_count": 0,
      "outputs": []
    },
    {
      "cell_type": "code",
      "metadata": {
        "id": "WqiBsbrL3RjM",
        "colab_type": "code",
        "outputId": "7c4217c4-cc1b-4949-cec2-69a762ba94c5",
        "colab": {
          "base_uri": "https://localhost:8080/",
          "height": 856
        }
      },
      "source": [
        "# Let's plot a bunch of images with the corresponding labels\n",
        "\n",
        "plt.figure(figsize=(15,15))\n",
        "for i in range(25):\n",
        "    plt.subplot(5,5,i+1)\n",
        "    plt.xticks([])\n",
        "    plt.yticks([])\n",
        "    plt.grid(False)\n",
        "    plt.imshow(train_images[i], cmap=plt.cm.binary)\n",
        "    plt.xlabel(class_names[train_labels[i]])\n",
        "    plt.colorbar()\n",
        "plt.show()\n"
      ],
      "execution_count": 0,
      "outputs": [
        {
          "output_type": "display_data",
          "data": {
            "image/png": "[encoded data removed]",
            "text/plain": [
              "<Figure size 1080x1080 with 50 Axes>"
            ]
          },
          "metadata": {
            "tags": []
          }
        }
      ]
    },
    {
      "cell_type": "markdown",
      "metadata": {
        "id": "E7tzUmSi3Rjf",
        "colab_type": "text"
      },
      "source": [
        "We also see that the pixels value always range between 0 and 1 after MinMax Normalization."
      ]
    },
    {
      "cell_type": "markdown",
      "metadata": {
        "id": "OLXY4MOa3Rjk",
        "colab_type": "text"
      },
      "source": [
        "## Building a multi layer perceptron (MLP)"
      ]
    },
    {
      "cell_type": "markdown",
      "metadata": {
        "id": "nvfTfHnW3Rjs",
        "colab_type": "text"
      },
      "source": [
        "The most common type of model is a stack of layers: the tf.keras.Sequential model. You will assemble layers to build models by using the *add* function. \n",
        "You can stack different types of layers provided by tf.keras.layers : https://www.tensorflow.org/api_docs/python/tf/keras/layers \n",
        "\n",
        "Let's start simple : right now, we have 28x28 images, but a vanilla multi layer perceptron will only take vectors as input. So the first layer of your model should *flatten* the input to transform our matrix into a 784 vector.\n",
        "You can also indicate the future input shape taken as input for this layer, using the *input_shape* argument.\n",
        "\n",
        "\n",
        "Then, let's stack 2 fully (densely) connected layers ( https://www.tensorflow.org/api_docs/python/tf/keras/layers/Dense ) with an output size of 128 each, and using the ReLU activation function.\n",
        "\n",
        "Our final layer will also be a fully connected layer, but we need to predict 10 outputs that can be interpreted as a probability distribution so we need a softmax activation function\n",
        "https://www.tensorflow.org/api_docs/python/tf/keras/activations"
      ]
    },
    {
      "cell_type": "code",
      "metadata": {
        "id": "cNiES-fq3Rj2",
        "colab_type": "code",
        "colab": {}
      },
      "source": [
        "model = tf.keras.models.Sequential()"
      ],
      "execution_count": 0,
      "outputs": []
    },
    {
      "cell_type": "code",
      "metadata": {
        "id": "_lXjMAvC3RkH",
        "colab_type": "code",
        "outputId": "0be6725c-4a47-4ec9-fa4b-7bea6fed7574",
        "colab": {
          "base_uri": "https://localhost:8080/",
          "height": 89
        }
      },
      "source": [
        "## Add your layers !\n",
        "\n",
        "model.add(...)\n",
        "model.add(...)"
      ],
      "execution_count": 0,
      "outputs": [
        {
          "output_type": "stream",
          "text": [
            "WARNING: Logging before flag parsing goes to stderr.\n",
            "W0821 20:55:26.357144 139652486629248 deprecation.py:506] From /usr/local/lib/python2.7/dist-packages/tensorflow/python/ops/init_ops.py:1251: calling __init__ (from tensorflow.python.ops.init_ops) with dtype is deprecated and will be removed in a future version.\n",
            "Instructions for updating:\n",
            "Call initializer instance with the dtype argument instead of passing it to the constructor\n"
          ],
          "name": "stderr"
        }
      ]
    },
    {
      "cell_type": "code",
      "metadata": {
        "id": "cXA_B0kV3RkX",
        "colab_type": "code",
        "outputId": "e1181e8c-adf2-4f34-e8e1-52caee51c2bf",
        "colab": {
          "base_uri": "https://localhost:8080/",
          "height": 305
        }
      },
      "source": [
        "# You can check your model's architecture using the following :\n",
        "model.summary()"
      ],
      "execution_count": 0,
      "outputs": [
        {
          "output_type": "stream",
          "text": [
            "Model: \"sequential\"\n",
            "_________________________________________________________________\n",
            "Layer (type)                 Output Shape              Param #   \n",
            "=================================================================\n",
            "flatten (Flatten)            (None, 784)               0         \n",
            "_________________________________________________________________\n",
            "dense (Dense)                (None, 128)               100480    \n",
            "_________________________________________________________________\n",
            "dense_1 (Dense)              (None, 128)               16512     \n",
            "_________________________________________________________________\n",
            "dense_2 (Dense)              (None, 10)                1290      \n",
            "=================================================================\n",
            "Total params: 118,282\n",
            "Trainable params: 118,282\n",
            "Non-trainable params: 0\n",
            "_________________________________________________________________\n"
          ],
          "name": "stdout"
        }
      ]
    },
    {
      "cell_type": "markdown",
      "metadata": {
        "id": "dB9oLgBT3Rkw",
        "colab_type": "text"
      },
      "source": [
        "Now let's configure the training process, using the *compile* function. \n",
        "\n",
        "https://www.tensorflow.org/api_docs/python/tf/keras/Model#compile\n",
        "\n",
        "You will need to setup three paramters : \n",
        "- *optimizer*, which select the optimization algorithm to use during training. You can safely go with Adam optimizer.\n",
        "- *loss* : this is the criterion that the model will optimize, e.g. mean square error (mse), categorical crossentropy, binary cross entropy, etc.https://www.tensorflow.org/api_docs/python/tf/keras/losses  Here we are in a classification setting, with more than two labels. Note that the targets are encoded as single integers (i.e. not _one-hot_ vectors, see train_labels.shape).\n",
        "- *metrics* : used to monitor training. In our case, we want to check that the accuracy is increasing with training. \n"
      ]
    },
    {
      "cell_type": "code",
      "metadata": {
        "id": "ygoqfpai3Rk1",
        "colab_type": "code",
        "outputId": "da9c0c73-36af-43fb-d269-8ecf01e55350",
        "colab": {
          "base_uri": "https://localhost:8080/",
          "height": 35
        }
      },
      "source": [
        "train_labels.shape"
      ],
      "execution_count": 0,
      "outputs": [
        {
          "output_type": "execute_result",
          "data": {
            "text/plain": [
              "(60000,)"
            ]
          },
          "metadata": {
            "tags": []
          },
          "execution_count": 10
        }
      ]
    },
    {
      "cell_type": "code",
      "metadata": {
        "id": "LuBzoWGY3RlA",
        "colab_type": "code",
        "colab": {}
      },
      "source": [
        "\n",
        "\n",
        "model.compile(...)\n",
        "\n",
        " "
      ],
      "execution_count": 0,
      "outputs": []
    },
    {
      "cell_type": "markdown",
      "metadata": {
        "id": "hIrSmwVG3RlQ",
        "colab_type": "text"
      },
      "source": [
        "## Training\n",
        "\n",
        "Let's train this model ! We will need to use the *fit* function : https://www.tensorflow.org/api_docs/python/tf/keras/Model#fit\n",
        "\n",
        "Call this function with the training inputs, the training labels (target), the number of epochs (e.g. 5). You can also select up the batch size, and decide to use a part of the dataset as validation with *validation_split*, for instance to be sure you're not overfitting.\n"
      ]
    },
    {
      "cell_type": "code",
      "metadata": {
        "id": "jWDcJDgn6J3p",
        "colab_type": "code",
        "colab": {}
      },
      "source": [
        "#\n",
        "hist = model.fit(...)"
      ],
      "execution_count": 0,
      "outputs": []
    },
    {
      "cell_type": "markdown",
      "metadata": {
        "id": "wXp5ffoP3Rls",
        "colab_type": "text"
      },
      "source": [
        "Traingin/validation losses and metrics are stored in *hist*, which you can access through a panda DataFrame: "
      ]
    },
    {
      "cell_type": "code",
      "metadata": {
        "id": "78ONGNT83Rlw",
        "colab_type": "code",
        "colab": {}
      },
      "source": [
        "\n",
        "df_hist = pd.DataFrame(hist.history)\n",
        "df_hist"
      ],
      "execution_count": 0,
      "outputs": []
    },
    {
      "cell_type": "markdown",
      "metadata": {
        "id": "3yva3BsI3Rl6",
        "colab_type": "text"
      },
      "source": [
        "You can now evaluate your model on the test images, using the *evaluate* function.\n",
        "\n",
        "https://www.tensorflow.org/api_docs/python/tf/keras/Model#evaluate"
      ]
    },
    {
      "cell_type": "code",
      "metadata": {
        "id": "PWcJjlcH3Rl8",
        "colab_type": "code",
        "colab": {}
      },
      "source": [
        "\n",
        "val_loss, val_acc = ... \n",
        "print(val_loss)  \n",
        "print(val_acc)  "
      ],
      "execution_count": 0,
      "outputs": []
    },
    {
      "cell_type": "markdown",
      "metadata": {
        "id": "r-0Vh5C13RmN",
        "colab_type": "text"
      },
      "source": [
        "Let's take a look at the actual output of the network. To get the (numbers_of_test_examples, 10) matrix outputs, use the *predict* function. "
      ]
    },
    {
      "cell_type": "code",
      "metadata": {
        "id": "dg21CwyG3RmQ",
        "colab_type": "code",
        "colab": {}
      },
      "source": [
        "##\n",
        "predictions = \n",
        "##\n",
        "predictions[0]"
      ],
      "execution_count": 0,
      "outputs": []
    },
    {
      "cell_type": "markdown",
      "metadata": {
        "id": "rNnFaQnc3Rma",
        "colab_type": "text"
      },
      "source": [
        "So we get for each test examples this probability distribution vector of size 10, which we can then easily use to get back the predicted label by picking the argmax :"
      ]
    },
    {
      "cell_type": "code",
      "metadata": {
        "id": "0HF3fDGd3Rmm",
        "colab_type": "code",
        "colab": {}
      },
      "source": [
        "labels_pred_test = np.argmax(predictions, axis=1)\n",
        "print(\"Predicted class is \" + class_names[labels_pred_test[0]])"
      ],
      "execution_count": 0,
      "outputs": []
    },
    {
      "cell_type": "markdown",
      "metadata": {
        "id": "3wvfygb83Rm6",
        "colab_type": "text"
      },
      "source": [
        "Let's check what was this image :"
      ]
    },
    {
      "cell_type": "code",
      "metadata": {
        "id": "REuBlE3v3Rm9",
        "colab_type": "code",
        "colab": {}
      },
      "source": [
        "\n",
        "plt.imshow(test_images[0],cmap=plt.cm.binary)\n",
        "plt.show()"
      ],
      "execution_count": 0,
      "outputs": []
    },
    {
      "cell_type": "markdown",
      "metadata": {
        "id": "JLCrGD_V3RnL",
        "colab_type": "text"
      },
      "source": [
        "Sweet !"
      ]
    },
    {
      "cell_type": "markdown",
      "metadata": {
        "id": "4F0T5WNU3RnP",
        "colab_type": "text"
      },
      "source": [
        "## Convolutional Neural Networks"
      ]
    },
    {
      "cell_type": "markdown",
      "metadata": {
        "id": "wk5e5kn63RnT",
        "colab_type": "text"
      },
      "source": [
        "Now we know how to build a regular fully connected neural networks (MLP). But we are dealing with images, so this would make more sense to use 2D Convolution. \n",
        "\n",
        "To do so, we will rely on the same principles: build a sequential keras model, but now using Conv2D layers, Pooling and Dense.\n",
        "\n",
        "But first, we need to reshape our inputs: right now, each example is a 2D matric of size 28x28, but Conv2D actually needs 3D inputs, with shape (height_of_image, width_of_image, number_of_channels). In our case, the number of channels is 1 (but e.g. RGB images will have 3 channels).\n"
      ]
    },
    {
      "cell_type": "code",
      "metadata": {
        "id": "OkTxq1kp3RnV",
        "colab_type": "code",
        "colab": {}
      },
      "source": [
        "\n",
        "train_images = train_images.reshape((60000, 28, 28, 1))\n",
        "test_images = test_images.reshape((10000, 28, 28, 1))\n"
      ],
      "execution_count": 0,
      "outputs": []
    },
    {
      "cell_type": "markdown",
      "metadata": {
        "id": "b7EzKNCL3Rnh",
        "colab_type": "text"
      },
      "source": [
        "Let's build a sequential model with 3 Conv2D layers with kernel size of 3x3 and ReLU activation function, alternating with MaxPooling2D of size 2x2. The number of channels for each Conv2D layer will be resp. 16, 32, and 64.\n",
        "You can also use BatchNormalization after each Convolution. \n",
        "\n",
        "\n",
        "After the Convolution + Pooling layer, you will need fully connected layers to go to your desired 10-size outputs. So you'll need to flatten the output of the last pooling layer, and stack some Dense layers as in the previous model.\n",
        "\n",
        " https://www.tensorflow.org/api_docs/python/tf/layers/conv2d\n",
        " \n",
        " https://www.tensorflow.org/api_docs/python/tf/layers/MaxPooling2D\n",
        " \n",
        " https://www.tensorflow.org/api_docs/python/tf/layers/BatchNormalization"
      ]
    },
    {
      "cell_type": "code",
      "metadata": {
        "id": "nKklRWi23Rns",
        "colab_type": "code",
        "colab": {}
      },
      "source": [
        "\n",
        "model = tf.keras.models.Sequential()\n",
        "\n",
        "model.add...\n"
      ],
      "execution_count": 0,
      "outputs": []
    },
    {
      "cell_type": "code",
      "metadata": {
        "id": "ucMwY2MW3RoA",
        "colab_type": "code",
        "colab": {}
      },
      "source": [
        "# Let's look at our model architecture:\n",
        "model.summary()"
      ],
      "execution_count": 0,
      "outputs": []
    },
    {
      "cell_type": "markdown",
      "metadata": {
        "id": "rENRG3Cd3RoK",
        "colab_type": "text"
      },
      "source": [
        "You can compare the number of trainable parameters compared to the previous fully connected model. We have much less weights with this model...Will it still be able to predict correctly ?\n",
        "\n",
        "Configure the training process with the _compile_ function as before:"
      ]
    },
    {
      "cell_type": "code",
      "metadata": {
        "id": "MzENOQvZ3RoS",
        "colab_type": "code",
        "colab": {}
      },
      "source": [
        "\n"
      ],
      "execution_count": 0,
      "outputs": []
    },
    {
      "cell_type": "markdown",
      "metadata": {
        "id": "bbMZCXQe3Rod",
        "colab_type": "text"
      },
      "source": [
        "And now let's train"
      ]
    },
    {
      "cell_type": "code",
      "metadata": {
        "id": "-vLJ0Z8V3Rok",
        "colab_type": "code",
        "colab": {}
      },
      "source": [
        "\n",
        "hist=model.fit..."
      ],
      "execution_count": 0,
      "outputs": []
    },
    {
      "cell_type": "markdown",
      "metadata": {
        "id": "gqt5Lp8k3Rou",
        "colab_type": "text"
      },
      "source": [
        "And evaluate on the test set"
      ]
    },
    {
      "cell_type": "code",
      "metadata": {
        "id": "IEMQ932q3Ro6",
        "colab_type": "code",
        "colab": {}
      },
      "source": [
        ""
      ],
      "execution_count": 0,
      "outputs": []
    },
    {
      "cell_type": "markdown",
      "metadata": {
        "id": "eUNfy5nQ3RpF",
        "colab_type": "text"
      },
      "source": [
        "Now you can play around, trying different architectures and hyper parameters !"
      ]
    },
    {
      "cell_type": "code",
      "metadata": {
        "id": "KCgDpdmk4spc",
        "colab_type": "code",
        "colab": {}
      },
      "source": [
        ""
      ],
      "execution_count": 0,
      "outputs": []
    },
    {
      "cell_type": "markdown",
      "metadata": {
        "id": "7zzXqKel4vx5",
        "colab_type": "text"
      },
      "source": [
        "Tensorflow provides a list of available datasets that are ready to use : https://www.tensorflow.org/datasets/catalog/overview"
      ]
    },
    {
      "cell_type": "code",
      "metadata": {
        "id": "ayDMek645h31",
        "colab_type": "code",
        "colab": {}
      },
      "source": [
        ""
      ],
      "execution_count": 0,
      "outputs": []
    },
    {
      "cell_type": "code",
      "metadata": {
        "id": "AgaBjhKvwQCb",
        "colab_type": "code",
        "cellView": "form",
        "colab": {}
      },
      "source": [
        "#@title\n",
        "cifar = keras.datasets.cifar10\n",
        "(train_images, train_labels), (test_images, test_labels) = cifar.load_data()\n",
        "\n",
        "class_names= ['airplane','car','bird','cat','deer','dog','frog','horse','ship','truck']\n",
        "train_labels = train_labels.reshape(train_labels.shape[0])\n",
        "print(train_images.shape)\n",
        "train_images = train_images / 255.\n",
        "test_images = test_images / 255."
      ],
      "execution_count": 0,
      "outputs": []
    }
  ]
}