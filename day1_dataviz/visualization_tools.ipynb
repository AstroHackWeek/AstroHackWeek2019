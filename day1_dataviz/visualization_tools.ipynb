{
 "cells": [
  {
   "cell_type": "markdown",
   "metadata": {},
   "source": [
    "# Visualization tools in Python"
   ]
  },
  {
   "cell_type": "markdown",
   "metadata": {},
   "source": [
    "There are many packages for visualization in Python, which can be grouped into several broad categories:\n",
    "\n",
    "* General plotting libraries where users control all elements in the plot and add different kinds of visual elements individually. [Matplotlib](https://matplotlib.org) is an example of such a package (although it does also have higher-level functionality).\n",
    "* High-level plotting libraries that make it so that the user focuses on specifying what they want to show conceptually, leaving the details of the plotting to the library. [Seaborn](https://seaborn.pydata.org/) and [Altair](https://altair-viz.github.io/) are examples of this.\n",
    "* More specialized visualization libraries that focus on a particular kind of visualization that might be domain-specific, for example [PyWWT](https://pywwt.readthedocs.io/en/stable/) which provides an interface to [WorldWide Telescope](http://worldwidetelescope.org).\n",
    "* Visualization applications that provide additional functionality (such as e.g. data management) or user interfaces beyond the visualizations. An example of such an application is [glue](http://www.glueviz.org)\n",
    "\n",
    "The [PyViz](https://pyviz.org/) website has been recently set up to serve as a portal to find out about all the different visualization tools in Python. In this tutorial, we look at a few examples of packages for the three first categories above.\n",
    "\n",
    "To run this notebook, you will need to make sure you have the following packages installed:\n",
    "\n",
    "* [Numpy](https://numpy.org)\n",
    "* [Matplotlib](https://matplotlib.org)\n",
    "* [seaborn](https://seaborn.pydata.org/)\n",
    "* [Altair](https://altair-viz.github.io/index.html)\n",
    "* [PyWWT](https://pywwt.readthedocs.io)\n",
    "\n",
    "You can install these with:\n",
    "\n",
    "    conda install -c conda-forge numpy matplotlib astropy seaborn altair vega pywwt notebook\n",
    "    \n",
    "or\n",
    "\n",
    "    pip install numpy matplotlib astropy seaborn altair vega pywwt notebook\n",
    "    \n",
    "For clarity, we hide warnings:"
   ]
  },
  {
   "cell_type": "code",
   "execution_count": null,
   "metadata": {},
   "outputs": [],
   "source": [
    "import warnings\n",
    "warnings.simplefilter('ignore')"
   ]
  },
  {
   "cell_type": "markdown",
   "metadata": {},
   "source": [
    "## Dataset"
   ]
  },
  {
   "cell_type": "markdown",
   "metadata": {},
   "source": [
    "For this notebook, we will use the latest table of confirmed exoplanets (as of 20 August 2019) from the [NASA Exoplanet Archive](https://exoplanetarchive.ipac.caltech.edu/):"
   ]
  },
  {
   "cell_type": "code",
   "execution_count": null,
   "metadata": {},
   "outputs": [],
   "source": [
    "from astropy.table import Table"
   ]
  },
  {
   "cell_type": "code",
   "execution_count": null,
   "metadata": {},
   "outputs": [],
   "source": [
    "catalog = Table.read('planets_2019.08.20_09.21.47.tbl', format='ascii.ipac')"
   ]
  },
  {
   "cell_type": "code",
   "execution_count": null,
   "metadata": {},
   "outputs": [],
   "source": [
    "len(catalog)"
   ]
  },
  {
   "cell_type": "code",
   "execution_count": null,
   "metadata": {},
   "outputs": [],
   "source": [
    "catalog[:3]"
   ]
  },
  {
   "cell_type": "markdown",
   "metadata": {},
   "source": [
    "## General plotting libraries"
   ]
  },
  {
   "cell_type": "markdown",
   "metadata": {},
   "source": [
    "One of the most popular plotting library in Python is [Matplotlib](https://matplotlib.org), which provides a very wide range of functionality, and makes it possible to optionally dive down to the low level and modify virtually any element in the plot. Let's start off by making a simple scatter plot of the exoplanet data:"
   ]
  },
  {
   "cell_type": "code",
   "execution_count": null,
   "metadata": {},
   "outputs": [],
   "source": [
    "import matplotlib.pyplot as plt"
   ]
  },
  {
   "cell_type": "code",
   "execution_count": null,
   "metadata": {
    "scrolled": true
   },
   "outputs": [],
   "source": [
    "ax = plt.subplot(1, 1, 1)\n",
    "ax.loglog(catalog['pl_orbper'], catalog['pl_bmassj'], '.')\n",
    "ax.set_xlabel('Orbital Period [days]')\n",
    "ax.set_ylabel('Planet Mass [Mjup]')"
   ]
  },
  {
   "cell_type": "markdown",
   "metadata": {},
   "source": [
    "Matplotlib is great when you want full control over a plot, and also supports interactive plots in Jupyter using the ``%matplotlib notebook`` directive:"
   ]
  },
  {
   "cell_type": "code",
   "execution_count": null,
   "metadata": {
    "scrolled": false
   },
   "outputs": [],
   "source": [
    "%matplotlib notebook\n",
    "\n",
    "ax = plt.subplot(1, 1, 1)\n",
    "\n",
    "ax.loglog(catalog['pl_orbper'], catalog['pl_bmassj'], '.')\n",
    "\n",
    "ax.annotate('Hot Jupiters', xy=(5, 1),\n",
    "            xytext=(0.06, 200), arrowprops={'arrowstyle': '->'})\n",
    "\n",
    "ax.set_xlim(0.01, 1e6)\n",
    "ax.set_ylim(1e-4, 1e3)\n",
    "\n",
    "ax.set_title('All confirmed exoplanets to date', weight='bold')\n",
    "\n",
    "ax.grid()\n",
    "\n",
    "ax.set_xlabel('Orbital Period [days]', weight='bold')\n",
    "ax.set_ylabel('Planet Mass [Mjup]', weight='bold')\n",
    "\n",
    "ax.plot([365.25], [0.00314], 'o', mec='black', mfc='lightgreen', markersize=10)\n",
    "\n",
    "ax.annotate('Earth', xy=(500, 0.00314),\n",
    "            xytext=(3000, 0.00314), arrowprops={'arrowstyle': '->'})\n",
    "\n",
    "plt.rcParams['axes.formatter.min_exponent'] = 3"
   ]
  },
  {
   "cell_type": "markdown",
   "metadata": {},
   "source": [
    "Matplotlib is extremely versatile, and you can find many examples and types of plots in the [example gallery](https://matplotlib.org/gallery.html)."
   ]
  },
  {
   "cell_type": "markdown",
   "metadata": {},
   "source": [
    "## High-level plotting libraries"
   ]
  },
  {
   "cell_type": "markdown",
   "metadata": {},
   "source": [
    "### Seaborn\n",
    "\n",
    "First, we look at [Seaborn](https://seaborn.pydata.org/), which is built on top of Matplotlib. The aim of seaborn is to make it easier to plot various types of statistical plots, and provide defaults for the visualization that are nicer than those in Matplotlib. Seaborn works using Pandas DataFrame objects, so we convert our catalog to a DataFrame with:"
   ]
  },
  {
   "cell_type": "code",
   "execution_count": null,
   "metadata": {},
   "outputs": [],
   "source": [
    "catalog.convert_bytestring_to_unicode()"
   ]
  },
  {
   "cell_type": "code",
   "execution_count": null,
   "metadata": {},
   "outputs": [],
   "source": [
    "import numpy as np\n",
    "df = catalog.to_pandas()"
   ]
  },
  {
   "cell_type": "markdown",
   "metadata": {},
   "source": [
    "Since setting up log scales can be a little verbose, we pre-compute a few useful log values from the table:"
   ]
  },
  {
   "cell_type": "code",
   "execution_count": null,
   "metadata": {},
   "outputs": [],
   "source": [
    "df['log_pl_orbper'] = np.log10(df['pl_orbper'])\n",
    "df['log_pl_radj'] = np.log10(df['pl_radj'])\n",
    "df['log_pl_bmassj'] = np.log10(df['pl_bmassj'])\n",
    "df['log_st_teff'] = np.log10(df['st_teff'])\n",
    "df['log_gaia_dist'] = np.log10(df['gaia_dist'])"
   ]
  },
  {
   "cell_type": "markdown",
   "metadata": {},
   "source": [
    "Next up we import seaborn and change the Matplotlib backend back to the non-interactive one:"
   ]
  },
  {
   "cell_type": "code",
   "execution_count": null,
   "metadata": {},
   "outputs": [],
   "source": [
    "%matplotlib inline\n",
    "import seaborn as sns\n",
    "sns.set()"
   ]
  },
  {
   "cell_type": "markdown",
   "metadata": {},
   "source": [
    "We can then easily make a variety of statistical plots - for example a joint distribution plot between the orbital period and the planet mass:"
   ]
  },
  {
   "cell_type": "code",
   "execution_count": null,
   "metadata": {},
   "outputs": [],
   "source": [
    "sns.jointplot(data=df, x='log_pl_orbper', y='log_pl_bmassj')"
   ]
  },
  {
   "cell_type": "markdown",
   "metadata": {},
   "source": [
    "A correlation plots between pairs of columns:"
   ]
  },
  {
   "cell_type": "code",
   "execution_count": null,
   "metadata": {
    "scrolled": false
   },
   "outputs": [],
   "source": [
    "sns.pairplot(data=df, vars=['log_pl_orbper', 'log_pl_bmassj', 'log_st_teff', 'log_gaia_dist'])"
   ]
  },
  {
   "cell_type": "markdown",
   "metadata": {},
   "source": [
    "A violin plot showing the range of planet masses for some of the discovery methods:"
   ]
  },
  {
   "cell_type": "code",
   "execution_count": null,
   "metadata": {},
   "outputs": [],
   "source": [
    "sns.violinplot(x=\"log_pl_bmassj\", y=\"pl_discmethod\", data=df, orient='h', width=1.5,\n",
    "               order=['Radial Velocity', 'Transit', 'Microlensing', 'Imaging'])"
   ]
  },
  {
   "cell_type": "markdown",
   "metadata": {},
   "source": [
    "And a plot with linear regression models:"
   ]
  },
  {
   "cell_type": "code",
   "execution_count": null,
   "metadata": {},
   "outputs": [],
   "source": [
    "sns.lmplot(x=\"log_pl_bmassj\", y=\"log_pl_radj\", hue='pl_discmethod', col='pl_discmethod',\n",
    "           col_order=['Radial Velocity', 'Transit'], data=df);"
   ]
  },
  {
   "cell_type": "markdown",
   "metadata": {},
   "source": [
    "You can find many more examples in the [example gallery](https://seaborn.pydata.org/examples/index.html)."
   ]
  },
  {
   "cell_type": "markdown",
   "metadata": {},
   "source": [
    "### Altair\n",
    "\n",
    "Another example is the [Altair](https://altair-viz.github.io/) package which is based on [Vega](https://vega.github.io/vega/) and [Vega Lite](https://vega.github.io/vega-lite/) which are 'grammars' for visualization, that is, ways of specifying the content of a visualiation without worrying about how exactly it is rendered. Vega and Vega-Lite are based on a JSON serialization that can be used by a variety of packages. Altair is a Python package that makes it easy to produce such visualizations and optionally serialize it to JSON for exchange with other applications.\n",
    "\n",
    "To start off, we produce a ``Chart`` object:"
   ]
  },
  {
   "cell_type": "code",
   "execution_count": null,
   "metadata": {},
   "outputs": [],
   "source": [
    "import altair as alt\n",
    "alt.renderers.enable('notebook')\n",
    "chart = alt.Chart(df)"
   ]
  },
  {
   "cell_type": "markdown",
   "metadata": {},
   "source": [
    "This doesn't show anything yet because we haven't set up the visualization. We can tell Altair to show the data as points with:"
   ]
  },
  {
   "cell_type": "code",
   "execution_count": null,
   "metadata": {},
   "outputs": [],
   "source": [
    "chart.mark_point()"
   ]
  },
  {
   "cell_type": "markdown",
   "metadata": {},
   "source": [
    "We haven't told Altair what to put on which axis, so by default it will just show all the points at the same location. We can now specify which variable to show on the y-axis with:"
   ]
  },
  {
   "cell_type": "code",
   "execution_count": null,
   "metadata": {},
   "outputs": [],
   "source": [
    "chart.mark_point().encode(\n",
    "    y='pl_discmethod'\n",
    ")"
   ]
  },
  {
   "cell_type": "markdown",
   "metadata": {},
   "source": [
    "and similarly for the y-axis:"
   ]
  },
  {
   "cell_type": "code",
   "execution_count": null,
   "metadata": {},
   "outputs": [],
   "source": [
    "chart.mark_point().encode(\n",
    "    x=alt.X('pl_bmassj', scale=alt.Scale(type='log')),\n",
    "    y='pl_discmethod'\n",
    ")"
   ]
  },
  {
   "cell_type": "markdown",
   "metadata": {},
   "source": [
    "We can specify that we want to e.g. average the mass values for each discovery method:"
   ]
  },
  {
   "cell_type": "code",
   "execution_count": null,
   "metadata": {
    "scrolled": false
   },
   "outputs": [],
   "source": [
    "chart.mark_point().encode(\n",
    "    x=alt.X('average(pl_bmassj)', scale=alt.Scale(type='log')),\n",
    "    y='pl_discmethod'\n",
    ")"
   ]
  },
  {
   "cell_type": "markdown",
   "metadata": {},
   "source": [
    "Altair supports making interactive plots:"
   ]
  },
  {
   "cell_type": "code",
   "execution_count": null,
   "metadata": {
    "scrolled": false
   },
   "outputs": [],
   "source": [
    "alt.Chart(df).mark_circle(size=60).encode(\n",
    "    x=alt.X('pl_orbper', scale=alt.Scale(type='log'), axis=alt.Axis(grid=False)),\n",
    "    y=alt.Y('pl_bmassj', scale=alt.Scale(type='log'), axis=alt.Axis(grid=False)),\n",
    "    tooltip=['pl_name', 'pl_discmethod', 'pl_orbper', 'pl_bmassj'],\n",
    ").interactive()"
   ]
  },
  {
   "cell_type": "markdown",
   "metadata": {},
   "source": [
    "and many more kinds of plots, which you can see in the [example gallery](https://altair-viz.github.io/gallery/index.html)."
   ]
  },
  {
   "cell_type": "markdown",
   "metadata": {},
   "source": [
    "## Specialized visualizations"
   ]
  },
  {
   "cell_type": "markdown",
   "metadata": {},
   "source": [
    "The third main category of visualization packages are ones that offer specialized, in some cases domain-specific, types of plots. Here we can try out the [PyWWT](https://pywwt.readthedocs.io/en/stable/) package which provides an interface to [WorldWide Telescope](http://worldwidetelescope.org)."
   ]
  },
  {
   "cell_type": "code",
   "execution_count": null,
   "metadata": {},
   "outputs": [],
   "source": [
    "from pywwt.jupyter import WWTJupyterWidget"
   ]
  },
  {
   "cell_type": "code",
   "execution_count": null,
   "metadata": {},
   "outputs": [],
   "source": [
    "wwt = WWTJupyterWidget()\n",
    "wwt"
   ]
  },
  {
   "cell_type": "code",
   "execution_count": null,
   "metadata": {},
   "outputs": [],
   "source": [
    "wwt.layer_controls"
   ]
  },
  {
   "cell_type": "markdown",
   "metadata": {},
   "source": [
    "Note - to zoom, press the shift key and use e.g. two-finger scroll.\n",
    "\n",
    "PyWWT makes it possible to plot tabular data (and soon image data) using:"
   ]
  },
  {
   "cell_type": "code",
   "execution_count": null,
   "metadata": {
    "scrolled": true
   },
   "outputs": [],
   "source": [
    "layer = wwt.layers.add_data_layer(table=catalog, lon_att='ra', lat_att='dec', frame='Sky')"
   ]
  },
  {
   "cell_type": "markdown",
   "metadata": {},
   "source": [
    "We can change the size of the points with:"
   ]
  },
  {
   "cell_type": "code",
   "execution_count": null,
   "metadata": {},
   "outputs": [],
   "source": [
    "layer.size_scale = 100"
   ]
  },
  {
   "cell_type": "markdown",
   "metadata": {},
   "source": [
    "and we can also set the point olor according to an attribute:"
   ]
  },
  {
   "cell_type": "code",
   "execution_count": null,
   "metadata": {},
   "outputs": [],
   "source": [
    "layer.cmap_att = 'st_teff'\n",
    "layer.cmap_vmin = 3000\n",
    "layer.cmap_vmax = 6000"
   ]
  },
  {
   "cell_type": "markdown",
   "metadata": {},
   "source": [
    "WorldWide Telescope also has a full 3-d mode which can be enable as follows:"
   ]
  },
  {
   "cell_type": "code",
   "execution_count": null,
   "metadata": {},
   "outputs": [],
   "source": [
    "wwt.set_view('solar system')\n",
    "wwt.solar_system.cosmos = False  # disable large-scale structure for performance"
   ]
  },
  {
   "cell_type": "markdown",
   "metadata": {},
   "source": [
    "We can now tell the data layer about the distance as a third dimension:"
   ]
  },
  {
   "cell_type": "code",
   "execution_count": null,
   "metadata": {},
   "outputs": [],
   "source": [
    "layer.alt_att = 'gaia_dist'\n",
    "layer.alt_unit = 'pc'\n",
    "layer.far_side_visible = True"
   ]
  }
 ],
 "metadata": {
  "kernelspec": {
   "display_name": "Python 3",
   "language": "python",
   "name": "python3"
  },
  "language_info": {
   "codemirror_mode": {
    "name": "ipython",
    "version": 3
   },
   "file_extension": ".py",
   "mimetype": "text/x-python",
   "name": "python",
   "nbconvert_exporter": "python",
   "pygments_lexer": "ipython3",
   "version": "3.7.3"
  }
 },
 "nbformat": 4,
 "nbformat_minor": 2
}
