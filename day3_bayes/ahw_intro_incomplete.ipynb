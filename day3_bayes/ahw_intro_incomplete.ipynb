{
 "cells": [
  {
   "cell_type": "markdown",
   "metadata": {},
   "source": [
    "# Bayesian Theory\n",
    "\n",
    "This jupyter notebook accompanies the Bayesian Shenaniganry lecture(s) delivered by Justin Alsing and Stephen Feeney as part of [Astro Hack Week 2019](http://astrohackweek.org/2019/). As part of the lecture(s) you will be asked to complete a number of tasks, some of which will involve direct coding into the notebook; these sections are marked by task. This notebook requires numpy, matplotlib and scipy. If you don't have these packages fret not: the notebook can be run on [Google Colab](https://colab.research.google.com/github/sfeeney/ahw19/blob/master/ahw_intro_incomplete.ipynb).\n",
    "\n",
    "We start with imports..."
   ]
  },
  {
   "cell_type": "code",
   "execution_count": null,
   "metadata": {},
   "outputs": [],
   "source": [
    "from __future__ import print_function\n",
    "\n",
    "# make sure everything we need is installed if running on Google Colab\n",
    "def is_colab():\n",
    "    try:\n",
    "        cfg = get_ipython().config\n",
    "        if cfg['IPKernelApp']['kernel_class'] == 'google.colab._kernel.Kernel':\n",
    "            return True\n",
    "        else:\n",
    "            return False\n",
    "    except NameError:\n",
    "        return False\n",
    "if is_colab():\n",
    "    !pip install --quiet numpy matplotlib scipy\n",
    "\n",
    "import numpy as np\n",
    "import numpy.random as npr\n",
    "import matplotlib.pyplot as mp\n",
    "import scipy.stats as sps\n",
    "%matplotlib inline"
   ]
  },
  {
   "cell_type": "markdown",
   "metadata": {},
   "source": [
    "## Task 1\n",
    "\n",
    "You have a coin and want to know the probability with which it gives heads $\\theta$. You make 10 tosses and get 3H, 7T. What is the posterior for $\\theta$ (assume tosses are independent and uniform prior, for now)?"
   ]
  },
  {
   "cell_type": "code",
   "execution_count": null,
   "metadata": {},
   "outputs": [],
   "source": [
    "def post_binomial(n, k, theta):\n",
    "    return theta ** k * (1.0 - theta) ** (n - k)\n",
    "\n",
    "theta_grid = np.linspace(0.0, 1.0, 100)\n",
    "mp.plot(theta_grid, post_binomial(10, 3, theta_grid))\n",
    "mp.xlabel(r'$\\theta$')\n",
    "mp.ylabel(r'${\\rm P}(\\theta)$')"
   ]
  },
  {
   "cell_type": "markdown",
   "metadata": {},
   "source": [
    "## Task 2\n",
    "\n",
    "You have some nuclear material and want to know the decay rate, $\\lambda$ (per day). You measure the number of decays for five days and get d = (4, 0, 3, 2, 4, 2, 3). What’s your posterior for $\\lambda$ (assume decays are independent and Poisson, and uniform prior for now)?"
   ]
  },
  {
   "cell_type": "code",
   "execution_count": null,
   "metadata": {},
   "outputs": [],
   "source": [
    "def post_poisson(counts, rate):\n",
    "    \n",
    "    return # ???\n",
    "\n",
    "counts = np.array([4, 0, 3, 2, 4, 2, 3])\n",
    "rate_grid = np.linspace(0.0, 10.0, 100)\n",
    "mp.plot(rate_grid, post_poisson(counts, rate_grid))\n",
    "mp.xlabel(r'$\\lambda$')\n",
    "mp.ylabel(r'${\\rm P}(\\lambda)$')"
   ]
  },
  {
   "cell_type": "markdown",
   "metadata": {},
   "source": [
    "## Task 3\n",
    "\n",
    "You’re at the doctor getting your baby weighed. The doc takes five measurements: d = (4.49, 5.15, 5.26 , 5.90, 4.86) kg. On the scale it (conveniently) says it has uncorrelated Gaussian errors with $\\sigma$ = 0.5 kg. What’s your posterior for your baby’s weight (assuming uniform priors)?"
   ]
  },
  {
   "cell_type": "code",
   "execution_count": null,
   "metadata": {},
   "outputs": [],
   "source": [
    "def post_gaussian(measurements, error, weight):\n",
    "    \n",
    "    n_grid = len(weight)\n",
    "    post = np.zeros(n_grid)\n",
    "    # ???\n",
    "    \n",
    "    return post\n",
    "\n",
    "measurements = np.array([4.49, 5.15, 5.26 , 5.90, 4.86])\n",
    "error = 0.5\n",
    "weight_grid = np.linspace(3.5, 6.5, 100)\n",
    "mp.plot(weight_grid, post_gaussian(measurements, error, weight_grid))\n",
    "mp.xlabel(r'$w$')\n",
    "mp.ylabel(r'${\\rm P}(w)$')"
   ]
  },
  {
   "cell_type": "markdown",
   "metadata": {},
   "source": [
    "You’re skeptical that the stated uncertainties on the scales are correct. What’s your joint posterior for your baby’s weight, $w$, and the standard deviation of the scales, $\\sigma$?"
   ]
  },
  {
   "cell_type": "code",
   "execution_count": null,
   "metadata": {},
   "outputs": [],
   "source": [
    "def post_gaussian_mu_sig(measurements, weight, error):\n",
    "    \n",
    "    n_m = len(measurements)\n",
    "    n_w = len(weight)\n",
    "    n_e = len(error)\n",
    "    post = np.zeros((n_w, n_e))\n",
    "    # ???\n",
    "    \n",
    "    return post\n",
    "\n",
    "error_grid = np.linspace(0.1, 1.2, 101)\n",
    "post = post_gaussian_mu_sig(measurements, weight_grid, error_grid)\n",
    "mp.contour(weight_grid, error_grid, post.T, colors='k')\n",
    "mp.xlabel(r'$w$')\n",
    "mp.ylabel(r'$\\sigma$')"
   ]
  },
  {
   "cell_type": "markdown",
   "metadata": {},
   "source": [
    "Can you marginalize over $\\sigma$ and compare with the case of known standard deviation? (Spoiler: you should get a Student’s-t posterior for your baby’s weight.)"
   ]
  },
  {
   "cell_type": "code",
   "execution_count": null,
   "metadata": {},
   "outputs": [],
   "source": [
    "post_weight = # ???\n",
    "post_weight_fixed_var = post_gaussian(measurements, error, weight_grid)\n",
    "mp.plot(weight_grid, post_weight / np.sum(post_weight), label='marg $\\sigma$')\n",
    "mp.plot(weight_grid, post_weight_fixed_var / np.sum(post_weight_fixed_var), label='fixed $\\sigma$')\n",
    "mp.xlabel(r'$w$')\n",
    "mp.ylabel(r'${\\rm P}(w)$')\n",
    "mp.legend(loc='upper left')"
   ]
  },
  {
   "cell_type": "code",
   "execution_count": null,
   "metadata": {},
   "outputs": [],
   "source": []
  }
 ],
 "metadata": {
  "kernelspec": {
   "display_name": "Python 3",
   "language": "python",
   "name": "python3"
  },
  "language_info": {
   "codemirror_mode": {
    "name": "ipython",
    "version": 3
   },
   "file_extension": ".py",
   "mimetype": "text/x-python",
   "name": "python",
   "nbconvert_exporter": "python",
   "pygments_lexer": "ipython3",
   "version": "3.6.8"
  }
 },
 "nbformat": 4,
 "nbformat_minor": 2
}
