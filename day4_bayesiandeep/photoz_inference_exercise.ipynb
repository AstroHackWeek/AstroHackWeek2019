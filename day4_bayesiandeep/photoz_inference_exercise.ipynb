{
  "nbformat": 4,
  "nbformat_minor": 0,
  "metadata": {
    "colab": {
      "name": "AHW2019_photoz_inference_exercise.ipynb",
      "version": "0.3.2",
      "provenance": [],
      "collapsed_sections": [],
      "include_colab_link": true
    },
    "kernelspec": {
      "name": "python3",
      "display_name": "Python 3"
    },
    "accelerator": "GPU"
  },
  "cells": [
    {
      "cell_type": "markdown",
      "metadata": {
        "id": "view-in-github",
        "colab_type": "text"
      },
      "source": [
        "<a href=\"https://colab.research.google.com/github/AstroHackWeek/AstroHackWeek2019/blob/master/day4_bayesiandeep/photoz_inference_exercise.ipynb\" target=\"_parent\"><img src=\"https://colab.research.google.com/assets/colab-badge.svg\" alt=\"Open In Colab\"/></a>"
      ]
    },
    {
      "cell_type": "markdown",
      "metadata": {
        "id": "YNYxkv19Bb3u",
        "colab_type": "text"
      },
      "source": [
        "##### Copyright 2019 Francois Lanusse.\n",
        "\n",
        "Licensed under the Apache License, Version 2.0 (the \"License\");"
      ]
    },
    {
      "cell_type": "markdown",
      "metadata": {
        "id": "cfcfTuBaBg5l",
        "colab_type": "text"
      },
      "source": [
        "# Estimating Photometric Redshifts with TensorFlow Probability\n",
        "\n",
        "Author: [@EiffL](https://github.com/EiffL) (Francois Lanusse)\n",
        "\n",
        "### Overview\n",
        "\n",
        "In this tutorial, we learn how to combine Keras, TensorFlow Probability, and Google Colab to train a model photo-z inference in the cloud.\n",
        "\n",
        "We will be using data from the HSC Survey, and more specifically from the Public Data Release 2, which can be found here: https://hsc-release.mtk.nao.ac.jp/doc/\n",
        "\n",
        "\n",
        "The dataset contains postage stamps of galaxies in 5 HSC bands, along with corresponding spectroscopic redshifts.\n",
        "\n",
        "Our goal will be to estimate redshift just by looking at a picture of a galaxy.\n",
        "\n",
        "### Learning objectives\n",
        "\n",
        "In this notebook, we will learn how to:\n",
        "*   Build a tf.data.Dataset input pipeline.\n",
        "*   Build a simple convolutional neural network with Keras.\n",
        "*   Train a model on GPUs in the cloud.\n",
        "*   (Stretch Goal) Use TensorFlow Probability to make a probabilistic model.\n",
        "\n",
        "\n",
        "### Instructions for enabling GPU access\n",
        "\n",
        "By default, notebooks are started without acceleration. To make sure that the runtime is configured for using GPUs, go to `Runtime > Change runtime type`, and select GPU in `Hardware Accelerator`.\n",
        "\n",
        "\n",
        "\n",
        "### Installs and Imports"
      ]
    },
    {
      "cell_type": "code",
      "metadata": {
        "id": "B5XIcKLGBE33",
        "colab_type": "code",
        "colab": {}
      },
      "source": [
        "import os\n",
        "import re\n",
        "import time\n",
        "import json\n",
        "import tensorflow as tf\n",
        "tf.enable_eager_execution()"
      ],
      "execution_count": 0,
      "outputs": []
    },
    {
      "cell_type": "markdown",
      "metadata": {
        "id": "OGBGfUdSF7QH",
        "colab_type": "text"
      },
      "source": [
        "### Checking for GPU access"
      ]
    },
    {
      "cell_type": "code",
      "metadata": {
        "id": "jgs_ONXTF6vX",
        "colab_type": "code",
        "colab": {}
      },
      "source": [
        "#Checking for GPU access\n",
        "if tf.test.gpu_device_name() != '/device:GPU:0':\n",
        "  print('WARNING: GPU device not found.')\n",
        "else:\n",
        "  print('SUCCESS: Found GPU: {}'.format(tf.test.gpu_device_name()))"
      ],
      "execution_count": 0,
      "outputs": []
    },
    {
      "cell_type": "markdown",
      "metadata": {
        "id": "97CFtkkqFv5P",
        "colab_type": "text"
      },
      "source": [
        "## Downloading the data"
      ]
    },
    {
      "cell_type": "code",
      "metadata": {
        "id": "Q4VyE8QmJEGh",
        "colab_type": "code",
        "colab": {}
      },
      "source": [
        "# Google Cloud Storage bucket for Estimator logs and storing\n",
        "# the training dataset.\n",
        "bucket = 'ahw2019' # Bucket setup for this AHW2019 tutorial\n",
        "print('Using bucket: {}'.format(bucket))"
      ],
      "execution_count": 0,
      "outputs": []
    },
    {
      "cell_type": "code",
      "metadata": {
        "id": "57gH9b7RPWzu",
        "colab_type": "code",
        "colab": {}
      },
      "source": [
        "# Retrieve the catalogs\n",
        "!gsutil -m cp gs://{bucket}/hsc_photoz/cat2/catalog_*.fits .\n",
        "!gsutil -m cp gs://{bucket}/hsc_photoz/tfrecords2/* ."
      ],
      "execution_count": 0,
      "outputs": []
    },
    {
      "cell_type": "code",
      "metadata": {
        "id": "OGENy38rPn1s",
        "colab_type": "code",
        "colab": {}
      },
      "source": [
        "from astropy.table import Table\n",
        "cat_train = Table.read('catalog_train.fits')\n",
        "cat_test = Table.read('catalog_test.fits')"
      ],
      "execution_count": 0,
      "outputs": []
    },
    {
      "cell_type": "markdown",
      "metadata": {
        "id": "3HRAxSC_JS3R",
        "colab_type": "text"
      },
      "source": [
        "## Building a tf.data.Dataset Input Pipeline\n",
        "\n",
        "The first step is to read the data from the tfrecords format on disk into a tf.data.Dataset. This TensorFlow API is the canonical way to supply data to a model during training. It is fast and optimized, and supports distributed training!\n"
      ]
    },
    {
      "cell_type": "code",
      "metadata": {
        "id": "s2Nznh3aJSXa",
        "colab_type": "code",
        "colab": {}
      },
      "source": [
        "# The data is saved as a TFRecord, needs to get parsed and turned into a dataset\n",
        "dset = tf.data.TFRecordDataset(['training-%05d-of-00010'%i for i in range(10)])"
      ],
      "execution_count": 0,
      "outputs": []
    },
    {
      "cell_type": "code",
      "metadata": {
        "id": "JKfKNgEeNTuE",
        "colab_type": "code",
        "colab": {}
      },
      "source": [
        "# To extract one example from the TFRecord, we can use the following syntax:\n",
        "for i in dset.take(1):\n",
        "  print(i)"
      ],
      "execution_count": 0,
      "outputs": []
    },
    {
      "cell_type": "markdown",
      "metadata": {
        "id": "8t0nLpgfDzV2",
        "colab_type": "text"
      },
      "source": [
        "The data is currently stored in a serialized format, as strings. We need to decode it."
      ]
    },
    {
      "cell_type": "code",
      "metadata": {
        "id": "yhPgF33ZOK7m",
        "colab_type": "code",
        "colab": {}
      },
      "source": [
        "img_len = 64\n",
        "num_bands = 5\n",
        "\n",
        "# This function defines the operations to apply to a serialized example to\n",
        "# turn it back into a dictionary object\n",
        "def parse_example(example):\n",
        "\n",
        "  # First, let's define what fields we are expecting\n",
        "  data_fields = {\n",
        "      \"image/encoded\": tf.FixedLenFeature((), tf.string),\n",
        "      \"image/format\": tf.FixedLenFeature((), tf.string),\n",
        "      \"id\": tf.FixedLenFeature((), tf.int64)\n",
        "  }\n",
        "  for k in cat_train.colnames[5:]:\n",
        "    data_fields['attrs/'+k] = tf.FixedLenFeature([], tf.float32)\n",
        "\n",
        "  parsed_example = tf.parse_single_example(example, data_fields)\n",
        "\n",
        "  # Decode the image from string format\n",
        "  cutout = tf.decode_raw(parsed_example['image/encoded'], out_type=tf.float32) \n",
        "  cutout = tf.reshape(cutout, [img_len, img_len, num_bands])\n",
        "\n",
        "  # Outputs results as a dictionary\n",
        "  output_dict = {\"cutout\": cutout}\n",
        "  for k in cat_train.colnames[5:]:\n",
        "    output_dict[k] = parsed_example['attrs/'+k]\n",
        "\n",
        "  return output_dict"
      ],
      "execution_count": 0,
      "outputs": []
    },
    {
      "cell_type": "markdown",
      "metadata": {
        "id": "VzMcHlasEMvF",
        "colab_type": "text"
      },
      "source": [
        "With this decoding function defined, we can apply it to the dataset by using the dataset.map() method:"
      ]
    },
    {
      "cell_type": "code",
      "metadata": {
        "id": "ZIBewKf0ELN-",
        "colab_type": "code",
        "colab": {}
      },
      "source": [
        "train_dset = dset.map(parse_example)"
      ],
      "execution_count": 0,
      "outputs": []
    },
    {
      "cell_type": "markdown",
      "metadata": {
        "id": "mbi4bL21EMED",
        "colab_type": "text"
      },
      "source": [
        "Let's have a look at the content of this new dataset:"
      ]
    },
    {
      "cell_type": "code",
      "metadata": {
        "id": "IHcy8OgQTQMW",
        "colab_type": "code",
        "colab": {}
      },
      "source": [
        "for i in train_dset.take(1):\n",
        "  print(i)"
      ],
      "execution_count": 0,
      "outputs": []
    },
    {
      "cell_type": "markdown",
      "metadata": {
        "id": "cVBQKpT7EhDa",
        "colab_type": "text"
      },
      "source": [
        "Now our dataset is decoded into numbers and arrays."
      ]
    },
    {
      "cell_type": "markdown",
      "metadata": {
        "id": "_YYlkH3dLm_2",
        "colab_type": "text"
      },
      "source": [
        "### Dataset preprocessing\n",
        "\n",
        "An important step of any input pipeline is to make\n",
        "sure the data is reasonably well behaved before \n",
        "feeding to the neural network. Here are some common strategies:\n",
        "\n",
        "\n",
        "*   Apply log() to values with large dynamic range\n",
        "*   Remove means, and standardize standard deviation\n",
        "*   etc...\n",
        "\n",
        "\n",
        "So, we begin by looking at our data\n"
      ]
    },
    {
      "cell_type": "code",
      "metadata": {
        "id": "yHIKuq5OMa7E",
        "colab_type": "code",
        "colab": {}
      },
      "source": [
        "# What's in our dataset:\n",
        "train_dset"
      ],
      "execution_count": 0,
      "outputs": []
    },
    {
      "cell_type": "markdown",
      "metadata": {
        "id": "9PRSqauJTt5f",
        "colab_type": "text"
      },
      "source": [
        "Ok, we see that this dataset is a dictionary, field `inputs` are hsc cutouts in 5 bands (g,r,i,z,y), this will be the inputs to our CNN. We also see a `specz_redshift` entry, that will be our prediction target. Let's have a look at these."
      ]
    },
    {
      "cell_type": "code",
      "metadata": {
        "id": "xm0ifpc4VrYc",
        "colab_type": "code",
        "colab": {}
      },
      "source": [
        "from astropy.visualization import make_lupton_rgb\n",
        "%pylab inline \n",
        "\n",
        "# The data is in 5 bands GRIZY, but for visualisation we use only the\n",
        "# 3 first bands and luptonize them\n",
        "def luptonize(img):\n",
        "  return make_lupton_rgb(img[:,:,2], img[:,:,1], img[:,:,0],\n",
        "                         Q=15, stretch=0.5, minimum=0)\n",
        "\n",
        "plt.figure(figsize=(10,10))\n",
        "for i, entry in enumerate(train_dset.take(25)):\n",
        "  plt.subplot(5,5,i+1)\n",
        "  plt.imshow(luptonize(entry['cutout']))\n",
        "  plt.title('z = %0.02f'%entry['specz_redshift'])\n",
        "  plt.axis('off')"
      ],
      "execution_count": 0,
      "outputs": []
    },
    {
      "cell_type": "markdown",
      "metadata": {
        "id": "htYm8k4pEzpM",
        "colab_type": "text"
      },
      "source": [
        "How nice is that :-) We can extract postage stamps and the corresponding spectroscopic redshift for these objects. \n",
        "\n",
        "Before doing anything else, we should take a closer look at the  data and check that it's well behaved."
      ]
    },
    {
      "cell_type": "code",
      "metadata": {
        "id": "f-c7o1B4Ma4X",
        "colab_type": "code",
        "colab": {}
      },
      "source": [
        "# Let's collect a few examples to check their distributions\n",
        "cutouts=[]\n",
        "specz = []\n",
        "for (batch, entry) in enumerate(train_dset.take(1000)):\n",
        "  specz.append(entry['specz_redshift'])\n",
        "  cutouts.append(entry['cutout'])\n",
        "\n",
        "cutouts = np.stack(cutouts)\n",
        "specz = np.stack(specz)"
      ],
      "execution_count": 0,
      "outputs": []
    },
    {
      "cell_type": "code",
      "metadata": {
        "id": "GBxLT8tfaRBK",
        "colab_type": "code",
        "colab": {}
      },
      "source": [
        "for i,b in enumerate(['g', 'r', 'i', 'z', 'y']):\n",
        "  plt.hist(cutouts[...,i].flatten(),100, label=b);\n",
        "plt.legend()\n",
        "\n",
        "# Problem ?"
      ],
      "execution_count": 0,
      "outputs": []
    },
    {
      "cell_type": "code",
      "metadata": {
        "id": "ECvEJL_UlZ2Q",
        "colab_type": "code",
        "colab": {}
      },
      "source": [
        "plt.figure(figsize=(15,3))\n",
        "for i,b in enumerate(['g', 'r', 'i', 'z', 'y']):\n",
        "  plt.subplot(1,5,i+1)\n",
        "  plt.imshow(cutouts[0,:,:,i],vmin=-1,vmax=50)\n",
        "  plt.title(b)\n",
        "  plt.axis('off')\n",
        "\n",
        "plt.figure(figsize=(15,3))\n",
        "for i,b in enumerate(['g', 'r', 'i', 'z', 'y']):\n",
        "  plt.subplot(1,5,i+1)\n",
        "  plt.imshow(cutouts[1,:,:,i],vmin=-1,vmax=50)\n",
        "  plt.title(b)\n",
        "  plt.axis('off')"
      ],
      "execution_count": 0,
      "outputs": []
    },
    {
      "cell_type": "code",
      "metadata": {
        "id": "mxhBE7xAbGpM",
        "colab_type": "code",
        "colab": {}
      },
      "source": [
        "# Let's look at it in log scale\n",
        "for i,b in enumerate(['g', 'r', 'i', 'z', 'y']):\n",
        "  plt.hist(cutouts[...,i].flatten(),100, label=b,alpha=0.5);\n",
        "plt.legend()\n",
        "plt.yscale('log')"
      ],
      "execution_count": 0,
      "outputs": []
    },
    {
      "cell_type": "markdown",
      "metadata": {
        "id": "6XwYxVLfbpnK",
        "colab_type": "text"
      },
      "source": [
        "This is terrible, the tail of this distribution in pixel intensity is going to kill our neural networks. We need to standardize the data."
      ]
    },
    {
      "cell_type": "code",
      "metadata": {
        "id": "YWu_s273cqUL",
        "colab_type": "code",
        "outputId": "f9c6a2ec-261f-47b7-80d6-c6421c4fd923",
        "colab": {
          "base_uri": "https://localhost:8080/",
          "height": 286
        }
      },
      "source": [
        "# Let's evaluate the noise standard deviation in each band, and apply range \n",
        "# compression accordingly\n",
        "from astropy.stats import mad_std\n",
        "scaling = []\n",
        "\n",
        "for i,b in enumerate(['g', 'r', 'i', 'z', 'y']):\n",
        "  plt.hist(cutouts[...,i].flatten(),100, label=b,alpha=0.5,range=[-1,1]);\n",
        "  sigma = mad_std(cutouts[...,i].flatten())\n",
        "  scaling.append(sigma)\n",
        "  plt.axvline(sigma, color='C%d'%i,alpha=0.5)\n",
        "  plt.axvline(-sigma, color='C%d'%i,alpha=0.5)\n",
        "plt.legend()"
      ],
      "execution_count": 0,
      "outputs": [
        {
          "output_type": "execute_result",
          "data": {
            "text/plain": [
              "<matplotlib.legend.Legend at 0x7f2a7570b940>"
            ]
          },
          "metadata": {
            "tags": []
          },
          "execution_count": 17
        },
        {
          "output_type": "display_data",
          "data": {
            "image/png": "[encoded data removed]",
            "text/plain": [
              "<Figure size 432x288 with 1 Axes>"
            ]
          },
          "metadata": {
            "tags": []
          }
        }
      ]
    },
    {
      "cell_type": "code",
      "metadata": {
        "id": "5asq6mhLeWAK",
        "colab_type": "code",
        "outputId": "28f534a6-d49a-4f87-a558-fe11c866c199",
        "colab": {
          "base_uri": "https://localhost:8080/",
          "height": 286
        }
      },
      "source": [
        "# Let's have a look at this distribution if we rescale each band by the standard\n",
        "# deviation\n",
        "for i,b in enumerate(['g', 'r', 'i', 'z', 'y']):\n",
        "  plt.hist(cutouts[...,i].flatten()/scaling[i],100, label=b,alpha=0.5,\n",
        "           range=[-10,10]);\n",
        "legend()"
      ],
      "execution_count": 0,
      "outputs": [
        {
          "output_type": "execute_result",
          "data": {
            "text/plain": [
              "<matplotlib.legend.Legend at 0x7f2a7571fcf8>"
            ]
          },
          "metadata": {
            "tags": []
          },
          "execution_count": 18
        },
        {
          "output_type": "display_data",
          "data": {
            "image/png": "[encoded data removed]",
            "text/plain": [
              "<Figure size 432x288 with 1 Axes>"
            ]
          },
          "metadata": {
            "tags": []
          }
        }
      ]
    },
    {
      "cell_type": "markdown",
      "metadata": {
        "id": "RzE7J3AMgaj1",
        "colab_type": "text"
      },
      "source": [
        "Sweet! Now there is still an unsigthly tail towards very large values. We are going to apply range compression to get rid of it."
      ]
    },
    {
      "cell_type": "code",
      "metadata": {
        "id": "oJCS-zMsboOD",
        "colab_type": "code",
        "colab": {}
      },
      "source": [
        "# a common approach for range compression is to apply arcsinh to suppress the\n",
        "# high amplitude values\n",
        "for i,b in enumerate(['g', 'r', 'i', 'z', 'y']):\n",
        "  plt.hist(np.arcsinh(cutouts[...,i].flatten()/scaling[i]/3),100,\n",
        "           label=b, alpha=0.5);\n",
        "plt.legend()\n",
        "plt.yscale('log')"
      ],
      "execution_count": 0,
      "outputs": []
    },
    {
      "cell_type": "markdown",
      "metadata": {
        "id": "KrSqabqBgtS4",
        "colab_type": "text"
      },
      "source": [
        "![Perfection](https://i.kym-cdn.com/entries/icons/original/000/022/900/704.jpg)"
      ]
    },
    {
      "cell_type": "code",
      "metadata": {
        "id": "jb_TCsVDfMzH",
        "colab_type": "code",
        "colab": {}
      },
      "source": [
        "# we can have a look at individual postage stamps with or without this scaling\n",
        "subplot(121)\n",
        "imshow(cutouts[0,:,:,i]/scaling[i])\n",
        "title('Before')\n",
        "subplot(122)\n",
        "imshow(np.arcsinh(cutouts[0,:,:,1]/scaling[1]/3))\n",
        "title('After');"
      ],
      "execution_count": 0,
      "outputs": []
    },
    {
      "cell_type": "code",
      "metadata": {
        "id": "G5Az8G5YhtXj",
        "colab_type": "code",
        "colab": {}
      },
      "source": [
        "# Let's just check the specz values\n",
        "plt.hist(specz,100);\n",
        "# Should be ok"
      ],
      "execution_count": 0,
      "outputs": []
    },
    {
      "cell_type": "markdown",
      "metadata": {
        "id": "azewX3L8F4fH",
        "colab_type": "text"
      },
      "source": [
        "Now that we have defined a scaling for the data that should be appropriate, we can build a scaling function and apply it to the dataset:"
      ]
    },
    {
      "cell_type": "code",
      "metadata": {
        "id": "N64jVDeFhtdm",
        "colab_type": "code",
        "colab": {}
      },
      "source": [
        "# Using a mapping function to apply preprocessing to our data\n",
        "def preprocessing(example):\n",
        "  def range_compression(img):\n",
        "    return tf.math.asinh(img / tf.constant(scaling) / 3. )\n",
        "  # Our preprocessing function only returns the postage stamps, and the specz\n",
        "  return range_compression(example['cutout']), example['specz_redshift']"
      ],
      "execution_count": 0,
      "outputs": []
    },
    {
      "cell_type": "code",
      "metadata": {
        "id": "9PigT6tEhtga",
        "colab_type": "code",
        "colab": {}
      },
      "source": [
        "dset = train_dset.map(preprocessing)"
      ],
      "execution_count": 0,
      "outputs": []
    },
    {
      "cell_type": "code",
      "metadata": {
        "id": "u7k9_qgzhtjk",
        "colab_type": "code",
        "colab": {}
      },
      "source": [
        "# Let's draw some examples from this  now\n",
        "cutouts=[]\n",
        "specz = []\n",
        "for (batch, entry) in enumerate(dset.take(1000)):\n",
        "  specz.append(entry[1])\n",
        "  cutouts.append(entry[0])\n",
        "\n",
        "cutouts = np.stack(cutouts)\n",
        "specz = np.stack(specz)"
      ],
      "execution_count": 0,
      "outputs": []
    },
    {
      "cell_type": "code",
      "metadata": {
        "id": "r3myN4MnkW8Z",
        "colab_type": "code",
        "colab": {}
      },
      "source": [
        "for i,b in enumerate(['g', 'r', 'i', 'z', 'y']):\n",
        "  plt.hist(cutouts[...,i].flatten(),100, label=b,alpha=0.5, range=[-1,6]);\n",
        "plt.legend()"
      ],
      "execution_count": 0,
      "outputs": []
    },
    {
      "cell_type": "code",
      "metadata": {
        "id": "Dgu9NKgnMajT",
        "colab_type": "code",
        "colab": {}
      },
      "source": [
        "plt.figure(figsize=(15,3))\n",
        "for i,b in enumerate(['g', 'r', 'i', 'z', 'y']):\n",
        "  plt.subplot(1,5,i+1)\n",
        "  plt.imshow(cutouts[0,:,:,i],vmin=-1,vmax=6)\n",
        "  plt.title(b)\n",
        "  plt.axis('off')\n",
        "\n",
        "plt.figure(figsize=(15,3))\n",
        "for i,b in enumerate(['g', 'r', 'i', 'z', 'y']):\n",
        "  plt.subplot(1,5,i+1)\n",
        "  plt.imshow(cutouts[1,:,:,i],vmin=-1,vmax=6)\n",
        "  plt.title(b)\n",
        "  plt.axis('off')"
      ],
      "execution_count": 0,
      "outputs": []
    },
    {
      "cell_type": "markdown",
      "metadata": {
        "id": "dXJVuvWmkZF7",
        "colab_type": "text"
      },
      "source": [
        "Sweeeeeet"
      ]
    },
    {
      "cell_type": "markdown",
      "metadata": {
        "id": "c3GYqhbkl9wQ",
        "colab_type": "text"
      },
      "source": [
        "### Create the input pipeline\n",
        "\n",
        "Now that we know how to preprocess the data, we can build the input pipeline. Below is a function that creates a Dataset object from the tfrecords files, decode them, applies preprocessing, shuffles the dataset, and create batches of data. Finally the function returns the dataset, that Keras models can directly ingest.\n",
        "\n",
        "More information about tf.data.dataset API can be found here: \n",
        "\n",
        "https://www.tensorflow.org/guide/datasets\n"
      ]
    },
    {
      "cell_type": "code",
      "metadata": {
        "id": "59EM2vNXLKxh",
        "colab_type": "code",
        "colab": {}
      },
      "source": [
        "# Using a mapping function to apply preprocessing to our data\n",
        "def preprocessing(example):\n",
        "  img = tf.math.asinh(example['cutout'] / tf.constant(scaling) / 3. )\n",
        "  return img, example['specz_redshift']\n",
        "\n",
        "def input_fn(mode, batch_size):\n",
        "  \"\"\"\n",
        "  mode: tf.estimator.ModeKeys.TRAIN or tf.estimator.ModeKeys.EVAL\n",
        "  \"\"\"\n",
        "  if mode == tf.estimator.ModeKeys.TRAIN:\n",
        "    dataset = tf.data.Dataset.list_files('training-*')\n",
        "    dataset = dataset.interleave(tf.data.TFRecordDataset, \n",
        "                                 cycle_length=10,\n",
        "                                 num_parallel_calls=tf.data.experimental.AUTOTUNE)\n",
        "    dataset = dataset.repeat()\n",
        "  else:\n",
        "    dataset = tf.data.TFRecordDataset('testing-00000-of-00001')\n",
        "    \n",
        "  dataset = dataset.map(parse_example)\n",
        "  if mode == tf.estimator.ModeKeys.TRAIN:\n",
        "    dataset = dataset.shuffle(10000)\n",
        "  dataset = dataset.batch(batch_size, drop_remainder=True)\n",
        "  dataset = dataset.map(preprocessing) # Apply data preprocessing\n",
        "  dataset = dataset.prefetch(-1) # fetch next batches while training current one (-1 for autotune)\n",
        "  return dataset"
      ],
      "execution_count": 0,
      "outputs": []
    },
    {
      "cell_type": "markdown",
      "metadata": {
        "id": "HSC4323pMr1U",
        "colab_type": "text"
      },
      "source": [
        "## Building a simple regression model with Keras"
      ]
    },
    {
      "cell_type": "code",
      "metadata": {
        "colab_type": "code",
        "id": "hoS-O2jDR4In",
        "colab": {}
      },
      "source": [
        "## Exercise: Implement a simple CNN model outputing redshifts\n",
        "import tensorflow.keras as tfk\n",
        "\n",
        "def create_model():\n",
        "  model = tfk.models.Sequential([\n",
        "                                 # Add your layers here\n",
        "  ])\n",
        "  \n",
        "  model.compile(optimizer='adam', # learning rate will be set by LearningRateScheduler\n",
        "                loss=tfk.metrics.mse)\n",
        "  return model"
      ],
      "execution_count": 0,
      "outputs": []
    },
    {
      "cell_type": "code",
      "metadata": {
        "id": "7SiLbwK6PrW2",
        "colab_type": "code",
        "colab": {}
      },
      "source": [
        "model = create_model()\n",
        "\n",
        "# print model layers\n",
        "model.summary()"
      ],
      "execution_count": 0,
      "outputs": []
    },
    {
      "cell_type": "code",
      "metadata": {
        "id": "eQXCdLVkUEzn",
        "colab_type": "code",
        "colab": {}
      },
      "source": [
        "# We define the batch size\n",
        "BATCH_SIZE = 64\n",
        "\n",
        "# Learning rate schedule\n",
        "LEARNING_RATE=0.001\n",
        "LEARNING_RATE_EXP_DECAY=0.9\n",
        "\n",
        "lr_decay = tfk.callbacks.LearningRateScheduler(\n",
        "    lambda epoch: LEARNING_RATE * LEARNING_RATE_EXP_DECAY**epoch,\n",
        "    verbose=True)"
      ],
      "execution_count": 0,
      "outputs": []
    },
    {
      "cell_type": "code",
      "metadata": {
        "id": "LgppIA1sdZe6",
        "colab_type": "code",
        "colab": {}
      },
      "source": [
        "# We actually create our training dataset with our input function\n",
        "dataset_training = input_fn(tf.estimator.ModeKeys.TRAIN, BATCH_SIZE)"
      ],
      "execution_count": 0,
      "outputs": []
    },
    {
      "cell_type": "code",
      "metadata": {
        "id": "1mgZfTZc7zIO",
        "colab_type": "code",
        "colab": {}
      },
      "source": [
        "# We are ready to train our model\n",
        "model.fit(dataset_training,\n",
        "          steps_per_epoch=20000//BATCH_SIZE, \n",
        "          epochs=15,\n",
        "          callbacks=[lr_decay])"
      ],
      "execution_count": 0,
      "outputs": []
    },
    {
      "cell_type": "code",
      "metadata": {
        "id": "oNrIw7y74uEL",
        "colab_type": "code",
        "colab": {}
      },
      "source": [
        "# Now that the model is 'trained', we can apply it\n",
        "dataset_eval = input_fn(tf.estimator.ModeKeys.EVAL, BATCH_SIZE)\n",
        "preds = model.predict(dataset_eval)"
      ],
      "execution_count": 0,
      "outputs": []
    },
    {
      "cell_type": "code",
      "metadata": {
        "id": "PrdAenDnlDmC",
        "colab_type": "code",
        "colab": {}
      },
      "source": [
        "%pylab inline\n",
        "hist2d(cat_test['specz_redshift'][:20000], preds.squeeze()[:20000], 64,\n",
        "       range=[[0,1],[0,1]], cmap='gist_stern'); \n",
        "gca().set_aspect('equal');\n",
        "plot([0,1],[0,1],color='r')\n",
        "xlabel('Spectroscopic Redshift')\n",
        "ylabel('Predicted Redshift')"
      ],
      "execution_count": 0,
      "outputs": []
    },
    {
      "cell_type": "markdown",
      "metadata": {
        "id": "lIlXHZcxH-l3",
        "colab_type": "text"
      },
      "source": [
        "Yes! It's learning something! But the results may not be perfect yet. Here  is a list of things to do to improve the model:\n",
        "*   Train for longer ^^' Deep Learning requires a lot of patience\n",
        "*   Include additional information, like the extinction in each band, which is included in the dataset. \n",
        "    *   You would need to change the input_fn so that the returned dataset contains additional fields\n",
        "    *   See how to use multiple inputs in a Keras model here: https://keras.io/getting-started/functional-api-guide/\n",
        "*   Use a better CNN model. A simple CNN like this one is typically very suboptimal. Much better results would be achieved with a ResNet model for instance, see here for a Keras example: https://keras.io/examples/cifar10_resnet/\n",
        "*   Move away from an MSE loss and embrace TensorflowProbability \\o/ Replacing the output of the model by a Mixture Density would be a much better idea. https://www.tensorflow.org/probability/api_docs/python/tfp/layers/MixtureNormal\n",
        "\n"
      ]
    },
    {
      "cell_type": "code",
      "metadata": {
        "id": "ho45ddXjJS6d",
        "colab_type": "code",
        "colab": {}
      },
      "source": [
        ""
      ],
      "execution_count": 0,
      "outputs": []
    }
  ]
}
